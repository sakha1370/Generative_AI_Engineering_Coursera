{
 "cells": [
  {
   "cell_type": "markdown",
   "metadata": {},
   "source": [
    "<a href=\"https://cognitiveclass.ai\"><img src=\"https://cf-courses-data.s3.us.cloud-object-storage.appdomain.cloud/IBMDeveloperSkillsNetwork-DL0101EN-SkillsNetwork/images/IDSN-logo.png\" width=\"400\"> </a>\n",
    "\n",
    "# Regression Models with Keras\n",
    "\n",
    "Estimated time needed: **45** mins\n"
   ]
  },
  {
   "cell_type": "markdown",
   "metadata": {},
   "source": [
    "## Introduction\n"
   ]
  },
  {
   "cell_type": "markdown",
   "metadata": {},
   "source": [
    "As we discussed in the videos, despite the popularity of more powerful libraries such as PyToch and TensorFlow, they are not easy to use and have a steep learning curve. So, for people who are just starting to learn deep learning, there is no better library to use other than the Keras library. \n",
    "\n",
    "Keras is a high-level API for building deep learning models. It has gained favor for its ease of use and syntactic simplicity facilitating fast development. As you will see in this lab and the other labs in this course, building a very complex deep learning network can be achieved with Keras with only few lines of code. You will appreciate Keras even more, once you learn how to build deep models using PyTorch and TensorFlow in the other courses.\n",
    "\n",
    "So, in this lab, you will learn how to use the Keras library to build a regression model.\n"
   ]
  },
  {
   "cell_type": "markdown",
   "metadata": {},
   "source": [
    "## Objectives for this Notebook    \n",
    "* How to use the Keras library to build a regression model\n",
    "* Download and clean the data set\n",
    "* Build a neural network\n",
    "* Train and test the network     \n",
    "\n"
   ]
  },
  {
   "cell_type": "markdown",
   "metadata": {},
   "source": [
    "## Table of Contents\n",
    "\n",
    "<div class=\"alert alert-block alert-info\" style=\"margin-top: 20px\">\n",
    "\n",
    "<font size = 3>\n",
    "    \n",
    "1. <a href=\"#item31\">Download and Clean the Data Set</a>  \n",
    "2. <a href=\"#item32\">Import Keras Packages</a>\n",
    "3. <a href=\"#item33\">Build a Neural Network</a>\n",
    "4. <a href=\"#item34\">Train and Test the Network</a>  \n",
    "\n",
    "</font>\n",
    "</div>\n"
   ]
  },
  {
   "cell_type": "markdown",
   "metadata": {},
   "source": [
    "<a id=\"item31\"></a>\n"
   ]
  },
  {
   "cell_type": "markdown",
   "metadata": {},
   "source": [
    "## Download and Clean the  Data Set\n"
   ]
  },
  {
   "cell_type": "markdown",
   "metadata": {},
   "source": [
    "Let's start by importing the <em>pandas</em> and the Numpy libraries.\n"
   ]
  },
  {
   "cell_type": "code",
   "execution_count": 1,
   "metadata": {},
   "outputs": [
    {
     "name": "stdout",
     "output_type": "stream",
     "text": [
      "Collecting numpy==2.0.2\n",
      "  Downloading numpy-2.0.2-cp312-cp312-manylinux_2_17_x86_64.manylinux2014_x86_64.whl.metadata (60 kB)\n",
      "Downloading numpy-2.0.2-cp312-cp312-manylinux_2_17_x86_64.manylinux2014_x86_64.whl (19.2 MB)\n",
      "\u001b[2K   \u001b[90m━━━━━━━━━━━━━━━━━━━━━━━━━━━━━━━━━━━━━━━━\u001b[0m \u001b[32m19.2/19.2 MB\u001b[0m \u001b[31m161.5 MB/s\u001b[0m eta \u001b[36m0:00:00\u001b[0m\n",
      "Installing collected packages: numpy\n",
      "Successfully installed numpy-2.0.2\n",
      "Collecting pandas==2.2.2\n",
      "  Downloading pandas-2.2.2-cp312-cp312-manylinux_2_17_x86_64.manylinux2014_x86_64.whl.metadata (19 kB)\n",
      "Requirement already satisfied: numpy>=1.26.0 in /opt/conda/lib/python3.12/site-packages (from pandas==2.2.2) (2.0.2)\n",
      "Requirement already satisfied: python-dateutil>=2.8.2 in /opt/conda/lib/python3.12/site-packages (from pandas==2.2.2) (2.9.0.post0)\n",
      "Requirement already satisfied: pytz>=2020.1 in /opt/conda/lib/python3.12/site-packages (from pandas==2.2.2) (2024.2)\n",
      "Collecting tzdata>=2022.7 (from pandas==2.2.2)\n",
      "  Downloading tzdata-2025.1-py2.py3-none-any.whl.metadata (1.4 kB)\n",
      "Requirement already satisfied: six>=1.5 in /opt/conda/lib/python3.12/site-packages (from python-dateutil>=2.8.2->pandas==2.2.2) (1.17.0)\n",
      "Downloading pandas-2.2.2-cp312-cp312-manylinux_2_17_x86_64.manylinux2014_x86_64.whl (12.7 MB)\n",
      "\u001b[2K   \u001b[90m━━━━━━━━━━━━━━━━━━━━━━━━━━━━━━━━━━━━━━━━\u001b[0m \u001b[32m12.7/12.7 MB\u001b[0m \u001b[31m116.3 MB/s\u001b[0m eta \u001b[36m0:00:00\u001b[0m\n",
      "\u001b[?25hDownloading tzdata-2025.1-py2.py3-none-any.whl (346 kB)\n",
      "Installing collected packages: tzdata, pandas\n",
      "Successfully installed pandas-2.2.2 tzdata-2025.1\n",
      "Collecting tensorflow_cpu==2.18.0\n",
      "  Downloading tensorflow_cpu-2.18.0-cp312-cp312-manylinux_2_17_x86_64.manylinux2014_x86_64.whl.metadata (4.1 kB)\n",
      "Collecting absl-py>=1.0.0 (from tensorflow_cpu==2.18.0)\n",
      "  Downloading absl_py-2.1.0-py3-none-any.whl.metadata (2.3 kB)\n",
      "Collecting astunparse>=1.6.0 (from tensorflow_cpu==2.18.0)\n",
      "  Downloading astunparse-1.6.3-py2.py3-none-any.whl.metadata (4.4 kB)\n",
      "Collecting flatbuffers>=24.3.25 (from tensorflow_cpu==2.18.0)\n",
      "  Downloading flatbuffers-25.2.10-py2.py3-none-any.whl.metadata (875 bytes)\n",
      "Collecting gast!=0.5.0,!=0.5.1,!=0.5.2,>=0.2.1 (from tensorflow_cpu==2.18.0)\n",
      "  Downloading gast-0.6.0-py3-none-any.whl.metadata (1.3 kB)\n",
      "Collecting google-pasta>=0.1.1 (from tensorflow_cpu==2.18.0)\n",
      "  Downloading google_pasta-0.2.0-py3-none-any.whl.metadata (814 bytes)\n",
      "Collecting libclang>=13.0.0 (from tensorflow_cpu==2.18.0)\n",
      "  Downloading libclang-18.1.1-py2.py3-none-manylinux2010_x86_64.whl.metadata (5.2 kB)\n",
      "Collecting opt-einsum>=2.3.2 (from tensorflow_cpu==2.18.0)\n",
      "  Downloading opt_einsum-3.4.0-py3-none-any.whl.metadata (6.3 kB)\n",
      "Requirement already satisfied: packaging in /opt/conda/lib/python3.12/site-packages (from tensorflow_cpu==2.18.0) (24.2)\n",
      "Collecting protobuf!=4.21.0,!=4.21.1,!=4.21.2,!=4.21.3,!=4.21.4,!=4.21.5,<6.0.0dev,>=3.20.3 (from tensorflow_cpu==2.18.0)\n",
      "  Downloading protobuf-5.29.3-cp38-abi3-manylinux2014_x86_64.whl.metadata (592 bytes)\n",
      "Requirement already satisfied: requests<3,>=2.21.0 in /opt/conda/lib/python3.12/site-packages (from tensorflow_cpu==2.18.0) (2.32.3)\n",
      "Requirement already satisfied: setuptools in /opt/conda/lib/python3.12/site-packages (from tensorflow_cpu==2.18.0) (75.8.0)\n",
      "Requirement already satisfied: six>=1.12.0 in /opt/conda/lib/python3.12/site-packages (from tensorflow_cpu==2.18.0) (1.17.0)\n",
      "Collecting termcolor>=1.1.0 (from tensorflow_cpu==2.18.0)\n",
      "  Downloading termcolor-2.5.0-py3-none-any.whl.metadata (6.1 kB)\n",
      "Requirement already satisfied: typing-extensions>=3.6.6 in /opt/conda/lib/python3.12/site-packages (from tensorflow_cpu==2.18.0) (4.12.2)\n",
      "Collecting wrapt>=1.11.0 (from tensorflow_cpu==2.18.0)\n",
      "  Downloading wrapt-1.17.2-cp312-cp312-manylinux_2_5_x86_64.manylinux1_x86_64.manylinux_2_17_x86_64.manylinux2014_x86_64.whl.metadata (6.4 kB)\n",
      "Collecting grpcio<2.0,>=1.24.3 (from tensorflow_cpu==2.18.0)\n",
      "  Downloading grpcio-1.70.0-cp312-cp312-manylinux_2_17_x86_64.manylinux2014_x86_64.whl.metadata (3.9 kB)\n",
      "Collecting tensorboard<2.19,>=2.18 (from tensorflow_cpu==2.18.0)\n",
      "  Downloading tensorboard-2.18.0-py3-none-any.whl.metadata (1.6 kB)\n",
      "Collecting keras>=3.5.0 (from tensorflow_cpu==2.18.0)\n",
      "  Downloading keras-3.8.0-py3-none-any.whl.metadata (5.8 kB)\n",
      "Requirement already satisfied: numpy<2.1.0,>=1.26.0 in /opt/conda/lib/python3.12/site-packages (from tensorflow_cpu==2.18.0) (2.0.2)\n",
      "Collecting h5py>=3.11.0 (from tensorflow_cpu==2.18.0)\n",
      "  Downloading h5py-3.12.1-cp312-cp312-manylinux_2_17_x86_64.manylinux2014_x86_64.whl.metadata (2.5 kB)\n",
      "Collecting ml-dtypes<0.5.0,>=0.4.0 (from tensorflow_cpu==2.18.0)\n",
      "  Downloading ml_dtypes-0.4.1-cp312-cp312-manylinux_2_17_x86_64.manylinux2014_x86_64.whl.metadata (20 kB)\n",
      "Requirement already satisfied: wheel<1.0,>=0.23.0 in /opt/conda/lib/python3.12/site-packages (from astunparse>=1.6.0->tensorflow_cpu==2.18.0) (0.45.1)\n",
      "Collecting rich (from keras>=3.5.0->tensorflow_cpu==2.18.0)\n",
      "  Downloading rich-13.9.4-py3-none-any.whl.metadata (18 kB)\n",
      "Collecting namex (from keras>=3.5.0->tensorflow_cpu==2.18.0)\n",
      "  Downloading namex-0.0.8-py3-none-any.whl.metadata (246 bytes)\n",
      "Collecting optree (from keras>=3.5.0->tensorflow_cpu==2.18.0)\n",
      "  Downloading optree-0.14.0-cp312-cp312-manylinux_2_17_x86_64.manylinux2014_x86_64.whl.metadata (47 kB)\n",
      "Requirement already satisfied: charset_normalizer<4,>=2 in /opt/conda/lib/python3.12/site-packages (from requests<3,>=2.21.0->tensorflow_cpu==2.18.0) (3.4.1)\n",
      "Requirement already satisfied: idna<4,>=2.5 in /opt/conda/lib/python3.12/site-packages (from requests<3,>=2.21.0->tensorflow_cpu==2.18.0) (3.10)\n",
      "Requirement already satisfied: urllib3<3,>=1.21.1 in /opt/conda/lib/python3.12/site-packages (from requests<3,>=2.21.0->tensorflow_cpu==2.18.0) (2.3.0)\n",
      "Requirement already satisfied: certifi>=2017.4.17 in /opt/conda/lib/python3.12/site-packages (from requests<3,>=2.21.0->tensorflow_cpu==2.18.0) (2024.12.14)\n",
      "Collecting markdown>=2.6.8 (from tensorboard<2.19,>=2.18->tensorflow_cpu==2.18.0)\n",
      "  Downloading Markdown-3.7-py3-none-any.whl.metadata (7.0 kB)\n",
      "Collecting tensorboard-data-server<0.8.0,>=0.7.0 (from tensorboard<2.19,>=2.18->tensorflow_cpu==2.18.0)\n",
      "  Downloading tensorboard_data_server-0.7.2-py3-none-manylinux_2_31_x86_64.whl.metadata (1.1 kB)\n",
      "Collecting werkzeug>=1.0.1 (from tensorboard<2.19,>=2.18->tensorflow_cpu==2.18.0)\n",
      "  Downloading werkzeug-3.1.3-py3-none-any.whl.metadata (3.7 kB)\n",
      "Requirement already satisfied: MarkupSafe>=2.1.1 in /opt/conda/lib/python3.12/site-packages (from werkzeug>=1.0.1->tensorboard<2.19,>=2.18->tensorflow_cpu==2.18.0) (3.0.2)\n",
      "Collecting markdown-it-py>=2.2.0 (from rich->keras>=3.5.0->tensorflow_cpu==2.18.0)\n",
      "  Downloading markdown_it_py-3.0.0-py3-none-any.whl.metadata (6.9 kB)\n",
      "Requirement already satisfied: pygments<3.0.0,>=2.13.0 in /opt/conda/lib/python3.12/site-packages (from rich->keras>=3.5.0->tensorflow_cpu==2.18.0) (2.19.1)\n",
      "Collecting mdurl~=0.1 (from markdown-it-py>=2.2.0->rich->keras>=3.5.0->tensorflow_cpu==2.18.0)\n",
      "  Downloading mdurl-0.1.2-py3-none-any.whl.metadata (1.6 kB)\n",
      "Downloading tensorflow_cpu-2.18.0-cp312-cp312-manylinux_2_17_x86_64.manylinux2014_x86_64.whl (230.3 MB)\n",
      "\u001b[2K   \u001b[90m━━━━━━━━━━━━━━━━━━━━━━━━━━━━━━━━━━━━━━━━\u001b[0m \u001b[32m230.3/230.3 MB\u001b[0m \u001b[31m43.2 MB/s\u001b[0m eta \u001b[36m0:00:00\u001b[0m00:01\u001b[0m00:01\u001b[0m\n",
      "Downloading absl_py-2.1.0-py3-none-any.whl (133 kB)\n",
      "Downloading astunparse-1.6.3-py2.py3-none-any.whl (12 kB)\n",
      "Downloading flatbuffers-25.2.10-py2.py3-none-any.whl (30 kB)\n",
      "Downloading gast-0.6.0-py3-none-any.whl (21 kB)\n",
      "Downloading google_pasta-0.2.0-py3-none-any.whl (57 kB)\n",
      "Downloading grpcio-1.70.0-cp312-cp312-manylinux_2_17_x86_64.manylinux2014_x86_64.whl (5.9 MB)\n",
      "\u001b[2K   \u001b[90m━━━━━━━━━━━━━━━━━━━━━━━━━━━━━━━━━━━━━━━━\u001b[0m \u001b[32m5.9/5.9 MB\u001b[0m \u001b[31m123.4 MB/s\u001b[0m eta \u001b[36m0:00:00\u001b[0m\n",
      "\u001b[?25hDownloading h5py-3.12.1-cp312-cp312-manylinux_2_17_x86_64.manylinux2014_x86_64.whl (5.4 MB)\n",
      "\u001b[2K   \u001b[90m━━━━━━━━━━━━━━━━━━━━━━━━━━━━━━━━━━━━━━━━\u001b[0m \u001b[32m5.4/5.4 MB\u001b[0m \u001b[31m68.7 MB/s\u001b[0m eta \u001b[36m0:00:00\u001b[0m\n",
      "\u001b[?25hDownloading keras-3.8.0-py3-none-any.whl (1.3 MB)\n",
      "\u001b[2K   \u001b[90m━━━━━━━━━━━━━━━━━━━━━━━━━━━━━━━━━━━━━━━━\u001b[0m \u001b[32m1.3/1.3 MB\u001b[0m \u001b[31m61.6 MB/s\u001b[0m eta \u001b[36m0:00:00\u001b[0m\n",
      "\u001b[?25hDownloading libclang-18.1.1-py2.py3-none-manylinux2010_x86_64.whl (24.5 MB)\n",
      "\u001b[2K   \u001b[90m━━━━━━━━━━━━━━━━━━━━━━━━━━━━━━━━━━━━━━━━\u001b[0m \u001b[32m24.5/24.5 MB\u001b[0m \u001b[31m48.6 MB/s\u001b[0m eta \u001b[36m0:00:00\u001b[0m:00:01\u001b[0m\n",
      "\u001b[?25hDownloading ml_dtypes-0.4.1-cp312-cp312-manylinux_2_17_x86_64.manylinux2014_x86_64.whl (2.2 MB)\n",
      "\u001b[2K   \u001b[90m━━━━━━━━━━━━━━━━━━━━━━━━━━━━━━━━━━━━━━━━\u001b[0m \u001b[32m2.2/2.2 MB\u001b[0m \u001b[31m64.6 MB/s\u001b[0m eta \u001b[36m0:00:00\u001b[0m\n",
      "\u001b[?25hDownloading opt_einsum-3.4.0-py3-none-any.whl (71 kB)\n",
      "Downloading protobuf-5.29.3-cp38-abi3-manylinux2014_x86_64.whl (319 kB)\n",
      "Downloading tensorboard-2.18.0-py3-none-any.whl (5.5 MB)\n",
      "\u001b[2K   \u001b[90m━━━━━━━━━━━━━━━━━━━━━━━━━━━━━━━━━━━━━━━━\u001b[0m \u001b[32m5.5/5.5 MB\u001b[0m \u001b[31m82.6 MB/s\u001b[0m eta \u001b[36m0:00:00\u001b[0m\n",
      "Downloading termcolor-2.5.0-py3-none-any.whl (7.8 kB)\n",
      "Downloading wrapt-1.17.2-cp312-cp312-manylinux_2_5_x86_64.manylinux1_x86_64.manylinux_2_17_x86_64.manylinux2014_x86_64.whl (89 kB)\n",
      "Downloading Markdown-3.7-py3-none-any.whl (106 kB)\n",
      "Downloading tensorboard_data_server-0.7.2-py3-none-manylinux_2_31_x86_64.whl (6.6 MB)\n",
      "\u001b[2K   \u001b[90m━━━━━━━━━━━━━━━━━━━━━━━━━━━━━━━━━━━━━━━━\u001b[0m \u001b[32m6.6/6.6 MB\u001b[0m \u001b[31m47.3 MB/s\u001b[0m eta \u001b[36m0:00:00\u001b[0m\n",
      "\u001b[?25hDownloading werkzeug-3.1.3-py3-none-any.whl (224 kB)\n",
      "Downloading namex-0.0.8-py3-none-any.whl (5.8 kB)\n",
      "Downloading optree-0.14.0-cp312-cp312-manylinux_2_17_x86_64.manylinux2014_x86_64.whl (400 kB)\n",
      "Downloading rich-13.9.4-py3-none-any.whl (242 kB)\n",
      "Downloading markdown_it_py-3.0.0-py3-none-any.whl (87 kB)\n",
      "Downloading mdurl-0.1.2-py3-none-any.whl (10.0 kB)\n",
      "Installing collected packages: namex, libclang, flatbuffers, wrapt, werkzeug, termcolor, tensorboard-data-server, protobuf, optree, opt-einsum, ml-dtypes, mdurl, markdown, h5py, grpcio, google-pasta, gast, astunparse, absl-py, tensorboard, markdown-it-py, rich, keras, tensorflow_cpu\n",
      "Successfully installed absl-py-2.1.0 astunparse-1.6.3 flatbuffers-25.2.10 gast-0.6.0 google-pasta-0.2.0 grpcio-1.70.0 h5py-3.12.1 keras-3.8.0 libclang-18.1.1 markdown-3.7 markdown-it-py-3.0.0 mdurl-0.1.2 ml-dtypes-0.4.1 namex-0.0.8 opt-einsum-3.4.0 optree-0.14.0 protobuf-5.29.3 rich-13.9.4 tensorboard-2.18.0 tensorboard-data-server-0.7.2 tensorflow_cpu-2.18.0 termcolor-2.5.0 werkzeug-3.1.3 wrapt-1.17.2\n"
     ]
    }
   ],
   "source": [
    "# All Libraries required for this lab are listed below. \n",
    "\n",
    "!pip install numpy==2.0.2\n",
    "!pip install pandas==2.2.2\n",
    "!pip install tensorflow_cpu==2.18.0\n"
   ]
  },
  {
   "cell_type": "markdown",
   "metadata": {},
   "source": [
    "##### To use Keras, you will also need to install a backend framework – such as TensorFlow.\n",
    "\n",
    "If you install TensorFlow 2.16 or above, it will install Keras by default.\n",
    "\n",
    "We are using the CPU version of tensorflow since we are dealing with smaller datasets. \n",
    "You may install the GPU version of tensorflow on your machine to accelarate the processing of larger datasets\n"
   ]
  },
  {
   "cell_type": "code",
   "execution_count": 2,
   "metadata": {},
   "outputs": [
    {
     "name": "stderr",
     "output_type": "stream",
     "text": [
      "2025-02-17 18:50:19.937357: I tensorflow/core/util/port.cc:153] oneDNN custom operations are on. You may see slightly different numerical results due to floating-point round-off errors from different computation orders. To turn them off, set the environment variable `TF_ENABLE_ONEDNN_OPTS=0`.\n",
      "2025-02-17 18:50:19.994564: I tensorflow/core/platform/cpu_feature_guard.cc:210] This TensorFlow binary is optimized to use available CPU instructions in performance-critical operations.\n",
      "To enable the following instructions: AVX2 AVX512F AVX512_VNNI FMA, in other operations, rebuild TensorFlow with the appropriate compiler flags.\n"
     ]
    }
   ],
   "source": [
    "import pandas as pd\n",
    "import numpy as np\n",
    "import keras\n",
    "\n",
    "import warnings\n",
    "warnings.simplefilter('ignore', FutureWarning)"
   ]
  },
  {
   "cell_type": "markdown",
   "metadata": {},
   "source": [
    "We will be playing around with the same dataset that we used in the videos.\n",
    "\n",
    "<strong>The dataset is about the compressive strength of different samples of concrete based on the volumes of the different ingredients that were used to make them. Ingredients include:</strong>\n",
    "\n",
    "* Cement\n",
    "* Blast furnace slag\n",
    "* Fly ash\n",
    "* Water\n",
    "* Superplasticizer\n",
    "* Coarse aggregate\n",
    "* Fine aggregate\n"
   ]
  },
  {
   "cell_type": "markdown",
   "metadata": {},
   "source": [
    "Let's download the data and read it into a <em>pandas</em> dataframe.\n"
   ]
  },
  {
   "cell_type": "code",
   "execution_count": 3,
   "metadata": {},
   "outputs": [
    {
     "data": {
      "text/html": [
       "<div>\n",
       "<style scoped>\n",
       "    .dataframe tbody tr th:only-of-type {\n",
       "        vertical-align: middle;\n",
       "    }\n",
       "\n",
       "    .dataframe tbody tr th {\n",
       "        vertical-align: top;\n",
       "    }\n",
       "\n",
       "    .dataframe thead th {\n",
       "        text-align: right;\n",
       "    }\n",
       "</style>\n",
       "<table border=\"1\" class=\"dataframe\">\n",
       "  <thead>\n",
       "    <tr style=\"text-align: right;\">\n",
       "      <th></th>\n",
       "      <th>Cement</th>\n",
       "      <th>Blast Furnace Slag</th>\n",
       "      <th>Fly Ash</th>\n",
       "      <th>Water</th>\n",
       "      <th>Superplasticizer</th>\n",
       "      <th>Coarse Aggregate</th>\n",
       "      <th>Fine Aggregate</th>\n",
       "      <th>Age</th>\n",
       "      <th>Strength</th>\n",
       "    </tr>\n",
       "  </thead>\n",
       "  <tbody>\n",
       "    <tr>\n",
       "      <th>0</th>\n",
       "      <td>540.0</td>\n",
       "      <td>0.0</td>\n",
       "      <td>0.0</td>\n",
       "      <td>162.0</td>\n",
       "      <td>2.5</td>\n",
       "      <td>1040.0</td>\n",
       "      <td>676.0</td>\n",
       "      <td>28</td>\n",
       "      <td>79.99</td>\n",
       "    </tr>\n",
       "    <tr>\n",
       "      <th>1</th>\n",
       "      <td>540.0</td>\n",
       "      <td>0.0</td>\n",
       "      <td>0.0</td>\n",
       "      <td>162.0</td>\n",
       "      <td>2.5</td>\n",
       "      <td>1055.0</td>\n",
       "      <td>676.0</td>\n",
       "      <td>28</td>\n",
       "      <td>61.89</td>\n",
       "    </tr>\n",
       "    <tr>\n",
       "      <th>2</th>\n",
       "      <td>332.5</td>\n",
       "      <td>142.5</td>\n",
       "      <td>0.0</td>\n",
       "      <td>228.0</td>\n",
       "      <td>0.0</td>\n",
       "      <td>932.0</td>\n",
       "      <td>594.0</td>\n",
       "      <td>270</td>\n",
       "      <td>40.27</td>\n",
       "    </tr>\n",
       "    <tr>\n",
       "      <th>3</th>\n",
       "      <td>332.5</td>\n",
       "      <td>142.5</td>\n",
       "      <td>0.0</td>\n",
       "      <td>228.0</td>\n",
       "      <td>0.0</td>\n",
       "      <td>932.0</td>\n",
       "      <td>594.0</td>\n",
       "      <td>365</td>\n",
       "      <td>41.05</td>\n",
       "    </tr>\n",
       "    <tr>\n",
       "      <th>4</th>\n",
       "      <td>198.6</td>\n",
       "      <td>132.4</td>\n",
       "      <td>0.0</td>\n",
       "      <td>192.0</td>\n",
       "      <td>0.0</td>\n",
       "      <td>978.4</td>\n",
       "      <td>825.5</td>\n",
       "      <td>360</td>\n",
       "      <td>44.30</td>\n",
       "    </tr>\n",
       "  </tbody>\n",
       "</table>\n",
       "</div>"
      ],
      "text/plain": [
       "   Cement  Blast Furnace Slag  Fly Ash  Water  Superplasticizer  \\\n",
       "0   540.0                 0.0      0.0  162.0               2.5   \n",
       "1   540.0                 0.0      0.0  162.0               2.5   \n",
       "2   332.5               142.5      0.0  228.0               0.0   \n",
       "3   332.5               142.5      0.0  228.0               0.0   \n",
       "4   198.6               132.4      0.0  192.0               0.0   \n",
       "\n",
       "   Coarse Aggregate  Fine Aggregate  Age  Strength  \n",
       "0            1040.0           676.0   28     79.99  \n",
       "1            1055.0           676.0   28     61.89  \n",
       "2             932.0           594.0  270     40.27  \n",
       "3             932.0           594.0  365     41.05  \n",
       "4             978.4           825.5  360     44.30  "
      ]
     },
     "execution_count": 3,
     "metadata": {},
     "output_type": "execute_result"
    }
   ],
   "source": [
    "filepath='https://s3-api.us-geo.objectstorage.softlayer.net/cf-courses-data/CognitiveClass/DL0101EN/labs/data/concrete_data.csv'\n",
    "concrete_data = pd.read_csv(filepath)\n",
    "\n",
    "concrete_data.head()"
   ]
  },
  {
   "cell_type": "markdown",
   "metadata": {},
   "source": [
    "So the first concrete sample has 540 cubic meter of cement, 0 cubic meter of blast furnace slag, 0 cubic meter of fly ash, 162 cubic meter of water, 2.5 cubic meter of superplaticizer, 1040 cubic meter of coarse aggregate, 676 cubic meter of fine aggregate. Such a concrete mix which is 28 days old, has a compressive strength of 79.99 MPa. \n"
   ]
  },
  {
   "cell_type": "markdown",
   "metadata": {},
   "source": [
    "#### Let's check how many data points we have\n"
   ]
  },
  {
   "cell_type": "code",
   "execution_count": 4,
   "metadata": {},
   "outputs": [
    {
     "data": {
      "text/plain": [
       "(1030, 9)"
      ]
     },
     "execution_count": 4,
     "metadata": {},
     "output_type": "execute_result"
    }
   ],
   "source": [
    "concrete_data.shape"
   ]
  },
  {
   "cell_type": "markdown",
   "metadata": {},
   "source": [
    "So, there are approximately 1000 samples to train our model on. Because of the few samples, we have to be careful not to overfit the training data.\n"
   ]
  },
  {
   "cell_type": "markdown",
   "metadata": {},
   "source": [
    "Let's check the dataset for any missing values.\n"
   ]
  },
  {
   "cell_type": "code",
   "execution_count": 5,
   "metadata": {},
   "outputs": [
    {
     "data": {
      "text/html": [
       "<div>\n",
       "<style scoped>\n",
       "    .dataframe tbody tr th:only-of-type {\n",
       "        vertical-align: middle;\n",
       "    }\n",
       "\n",
       "    .dataframe tbody tr th {\n",
       "        vertical-align: top;\n",
       "    }\n",
       "\n",
       "    .dataframe thead th {\n",
       "        text-align: right;\n",
       "    }\n",
       "</style>\n",
       "<table border=\"1\" class=\"dataframe\">\n",
       "  <thead>\n",
       "    <tr style=\"text-align: right;\">\n",
       "      <th></th>\n",
       "      <th>Cement</th>\n",
       "      <th>Blast Furnace Slag</th>\n",
       "      <th>Fly Ash</th>\n",
       "      <th>Water</th>\n",
       "      <th>Superplasticizer</th>\n",
       "      <th>Coarse Aggregate</th>\n",
       "      <th>Fine Aggregate</th>\n",
       "      <th>Age</th>\n",
       "      <th>Strength</th>\n",
       "    </tr>\n",
       "  </thead>\n",
       "  <tbody>\n",
       "    <tr>\n",
       "      <th>count</th>\n",
       "      <td>1030.000000</td>\n",
       "      <td>1030.000000</td>\n",
       "      <td>1030.000000</td>\n",
       "      <td>1030.000000</td>\n",
       "      <td>1030.000000</td>\n",
       "      <td>1030.000000</td>\n",
       "      <td>1030.000000</td>\n",
       "      <td>1030.000000</td>\n",
       "      <td>1030.000000</td>\n",
       "    </tr>\n",
       "    <tr>\n",
       "      <th>mean</th>\n",
       "      <td>281.167864</td>\n",
       "      <td>73.895825</td>\n",
       "      <td>54.188350</td>\n",
       "      <td>181.567282</td>\n",
       "      <td>6.204660</td>\n",
       "      <td>972.918932</td>\n",
       "      <td>773.580485</td>\n",
       "      <td>45.662136</td>\n",
       "      <td>35.817961</td>\n",
       "    </tr>\n",
       "    <tr>\n",
       "      <th>std</th>\n",
       "      <td>104.506364</td>\n",
       "      <td>86.279342</td>\n",
       "      <td>63.997004</td>\n",
       "      <td>21.354219</td>\n",
       "      <td>5.973841</td>\n",
       "      <td>77.753954</td>\n",
       "      <td>80.175980</td>\n",
       "      <td>63.169912</td>\n",
       "      <td>16.705742</td>\n",
       "    </tr>\n",
       "    <tr>\n",
       "      <th>min</th>\n",
       "      <td>102.000000</td>\n",
       "      <td>0.000000</td>\n",
       "      <td>0.000000</td>\n",
       "      <td>121.800000</td>\n",
       "      <td>0.000000</td>\n",
       "      <td>801.000000</td>\n",
       "      <td>594.000000</td>\n",
       "      <td>1.000000</td>\n",
       "      <td>2.330000</td>\n",
       "    </tr>\n",
       "    <tr>\n",
       "      <th>25%</th>\n",
       "      <td>192.375000</td>\n",
       "      <td>0.000000</td>\n",
       "      <td>0.000000</td>\n",
       "      <td>164.900000</td>\n",
       "      <td>0.000000</td>\n",
       "      <td>932.000000</td>\n",
       "      <td>730.950000</td>\n",
       "      <td>7.000000</td>\n",
       "      <td>23.710000</td>\n",
       "    </tr>\n",
       "    <tr>\n",
       "      <th>50%</th>\n",
       "      <td>272.900000</td>\n",
       "      <td>22.000000</td>\n",
       "      <td>0.000000</td>\n",
       "      <td>185.000000</td>\n",
       "      <td>6.400000</td>\n",
       "      <td>968.000000</td>\n",
       "      <td>779.500000</td>\n",
       "      <td>28.000000</td>\n",
       "      <td>34.445000</td>\n",
       "    </tr>\n",
       "    <tr>\n",
       "      <th>75%</th>\n",
       "      <td>350.000000</td>\n",
       "      <td>142.950000</td>\n",
       "      <td>118.300000</td>\n",
       "      <td>192.000000</td>\n",
       "      <td>10.200000</td>\n",
       "      <td>1029.400000</td>\n",
       "      <td>824.000000</td>\n",
       "      <td>56.000000</td>\n",
       "      <td>46.135000</td>\n",
       "    </tr>\n",
       "    <tr>\n",
       "      <th>max</th>\n",
       "      <td>540.000000</td>\n",
       "      <td>359.400000</td>\n",
       "      <td>200.100000</td>\n",
       "      <td>247.000000</td>\n",
       "      <td>32.200000</td>\n",
       "      <td>1145.000000</td>\n",
       "      <td>992.600000</td>\n",
       "      <td>365.000000</td>\n",
       "      <td>82.600000</td>\n",
       "    </tr>\n",
       "  </tbody>\n",
       "</table>\n",
       "</div>"
      ],
      "text/plain": [
       "            Cement  Blast Furnace Slag      Fly Ash        Water  \\\n",
       "count  1030.000000         1030.000000  1030.000000  1030.000000   \n",
       "mean    281.167864           73.895825    54.188350   181.567282   \n",
       "std     104.506364           86.279342    63.997004    21.354219   \n",
       "min     102.000000            0.000000     0.000000   121.800000   \n",
       "25%     192.375000            0.000000     0.000000   164.900000   \n",
       "50%     272.900000           22.000000     0.000000   185.000000   \n",
       "75%     350.000000          142.950000   118.300000   192.000000   \n",
       "max     540.000000          359.400000   200.100000   247.000000   \n",
       "\n",
       "       Superplasticizer  Coarse Aggregate  Fine Aggregate          Age  \\\n",
       "count       1030.000000       1030.000000     1030.000000  1030.000000   \n",
       "mean           6.204660        972.918932      773.580485    45.662136   \n",
       "std            5.973841         77.753954       80.175980    63.169912   \n",
       "min            0.000000        801.000000      594.000000     1.000000   \n",
       "25%            0.000000        932.000000      730.950000     7.000000   \n",
       "50%            6.400000        968.000000      779.500000    28.000000   \n",
       "75%           10.200000       1029.400000      824.000000    56.000000   \n",
       "max           32.200000       1145.000000      992.600000   365.000000   \n",
       "\n",
       "          Strength  \n",
       "count  1030.000000  \n",
       "mean     35.817961  \n",
       "std      16.705742  \n",
       "min       2.330000  \n",
       "25%      23.710000  \n",
       "50%      34.445000  \n",
       "75%      46.135000  \n",
       "max      82.600000  "
      ]
     },
     "execution_count": 5,
     "metadata": {},
     "output_type": "execute_result"
    }
   ],
   "source": [
    "concrete_data.describe()"
   ]
  },
  {
   "cell_type": "code",
   "execution_count": 6,
   "metadata": {},
   "outputs": [
    {
     "data": {
      "text/plain": [
       "Cement                0\n",
       "Blast Furnace Slag    0\n",
       "Fly Ash               0\n",
       "Water                 0\n",
       "Superplasticizer      0\n",
       "Coarse Aggregate      0\n",
       "Fine Aggregate        0\n",
       "Age                   0\n",
       "Strength              0\n",
       "dtype: int64"
      ]
     },
     "execution_count": 6,
     "metadata": {},
     "output_type": "execute_result"
    }
   ],
   "source": [
    "concrete_data.isnull().sum()"
   ]
  },
  {
   "cell_type": "markdown",
   "metadata": {},
   "source": [
    "The data looks very clean and is ready to be used to build our model.\n"
   ]
  },
  {
   "cell_type": "markdown",
   "metadata": {},
   "source": [
    "#### Split data into predictors and target\n"
   ]
  },
  {
   "cell_type": "markdown",
   "metadata": {},
   "source": [
    "The target variable in this problem is the concrete sample strength. Therefore, our predictors will be all the other columns.\n"
   ]
  },
  {
   "cell_type": "code",
   "execution_count": 7,
   "metadata": {},
   "outputs": [],
   "source": [
    "concrete_data_columns = concrete_data.columns"
   ]
  },
  {
   "cell_type": "code",
   "execution_count": 8,
   "metadata": {},
   "outputs": [],
   "source": [
    "predictors = concrete_data[concrete_data_columns[concrete_data_columns != 'Strength']] # all columns except Strength\n",
    "target = concrete_data['Strength'] # Strength column"
   ]
  },
  {
   "cell_type": "markdown",
   "metadata": {},
   "source": [
    "<a id=\"item2\"></a>\n"
   ]
  },
  {
   "cell_type": "markdown",
   "metadata": {},
   "source": [
    "Let's do a quick sanity check of the predictors and the target dataframes.\n"
   ]
  },
  {
   "cell_type": "code",
   "execution_count": 9,
   "metadata": {},
   "outputs": [
    {
     "data": {
      "text/html": [
       "<div>\n",
       "<style scoped>\n",
       "    .dataframe tbody tr th:only-of-type {\n",
       "        vertical-align: middle;\n",
       "    }\n",
       "\n",
       "    .dataframe tbody tr th {\n",
       "        vertical-align: top;\n",
       "    }\n",
       "\n",
       "    .dataframe thead th {\n",
       "        text-align: right;\n",
       "    }\n",
       "</style>\n",
       "<table border=\"1\" class=\"dataframe\">\n",
       "  <thead>\n",
       "    <tr style=\"text-align: right;\">\n",
       "      <th></th>\n",
       "      <th>Cement</th>\n",
       "      <th>Blast Furnace Slag</th>\n",
       "      <th>Fly Ash</th>\n",
       "      <th>Water</th>\n",
       "      <th>Superplasticizer</th>\n",
       "      <th>Coarse Aggregate</th>\n",
       "      <th>Fine Aggregate</th>\n",
       "      <th>Age</th>\n",
       "    </tr>\n",
       "  </thead>\n",
       "  <tbody>\n",
       "    <tr>\n",
       "      <th>0</th>\n",
       "      <td>540.0</td>\n",
       "      <td>0.0</td>\n",
       "      <td>0.0</td>\n",
       "      <td>162.0</td>\n",
       "      <td>2.5</td>\n",
       "      <td>1040.0</td>\n",
       "      <td>676.0</td>\n",
       "      <td>28</td>\n",
       "    </tr>\n",
       "    <tr>\n",
       "      <th>1</th>\n",
       "      <td>540.0</td>\n",
       "      <td>0.0</td>\n",
       "      <td>0.0</td>\n",
       "      <td>162.0</td>\n",
       "      <td>2.5</td>\n",
       "      <td>1055.0</td>\n",
       "      <td>676.0</td>\n",
       "      <td>28</td>\n",
       "    </tr>\n",
       "    <tr>\n",
       "      <th>2</th>\n",
       "      <td>332.5</td>\n",
       "      <td>142.5</td>\n",
       "      <td>0.0</td>\n",
       "      <td>228.0</td>\n",
       "      <td>0.0</td>\n",
       "      <td>932.0</td>\n",
       "      <td>594.0</td>\n",
       "      <td>270</td>\n",
       "    </tr>\n",
       "    <tr>\n",
       "      <th>3</th>\n",
       "      <td>332.5</td>\n",
       "      <td>142.5</td>\n",
       "      <td>0.0</td>\n",
       "      <td>228.0</td>\n",
       "      <td>0.0</td>\n",
       "      <td>932.0</td>\n",
       "      <td>594.0</td>\n",
       "      <td>365</td>\n",
       "    </tr>\n",
       "    <tr>\n",
       "      <th>4</th>\n",
       "      <td>198.6</td>\n",
       "      <td>132.4</td>\n",
       "      <td>0.0</td>\n",
       "      <td>192.0</td>\n",
       "      <td>0.0</td>\n",
       "      <td>978.4</td>\n",
       "      <td>825.5</td>\n",
       "      <td>360</td>\n",
       "    </tr>\n",
       "  </tbody>\n",
       "</table>\n",
       "</div>"
      ],
      "text/plain": [
       "   Cement  Blast Furnace Slag  Fly Ash  Water  Superplasticizer  \\\n",
       "0   540.0                 0.0      0.0  162.0               2.5   \n",
       "1   540.0                 0.0      0.0  162.0               2.5   \n",
       "2   332.5               142.5      0.0  228.0               0.0   \n",
       "3   332.5               142.5      0.0  228.0               0.0   \n",
       "4   198.6               132.4      0.0  192.0               0.0   \n",
       "\n",
       "   Coarse Aggregate  Fine Aggregate  Age  \n",
       "0            1040.0           676.0   28  \n",
       "1            1055.0           676.0   28  \n",
       "2             932.0           594.0  270  \n",
       "3             932.0           594.0  365  \n",
       "4             978.4           825.5  360  "
      ]
     },
     "execution_count": 9,
     "metadata": {},
     "output_type": "execute_result"
    }
   ],
   "source": [
    "predictors.head()"
   ]
  },
  {
   "cell_type": "code",
   "execution_count": 10,
   "metadata": {},
   "outputs": [
    {
     "data": {
      "text/plain": [
       "0    79.99\n",
       "1    61.89\n",
       "2    40.27\n",
       "3    41.05\n",
       "4    44.30\n",
       "Name: Strength, dtype: float64"
      ]
     },
     "execution_count": 10,
     "metadata": {},
     "output_type": "execute_result"
    }
   ],
   "source": [
    "target.head()"
   ]
  },
  {
   "cell_type": "markdown",
   "metadata": {},
   "source": [
    "Finally, the last step is to normalize the data by substracting the mean and dividing by the standard deviation.\n"
   ]
  },
  {
   "cell_type": "code",
   "execution_count": 11,
   "metadata": {},
   "outputs": [
    {
     "data": {
      "text/html": [
       "<div>\n",
       "<style scoped>\n",
       "    .dataframe tbody tr th:only-of-type {\n",
       "        vertical-align: middle;\n",
       "    }\n",
       "\n",
       "    .dataframe tbody tr th {\n",
       "        vertical-align: top;\n",
       "    }\n",
       "\n",
       "    .dataframe thead th {\n",
       "        text-align: right;\n",
       "    }\n",
       "</style>\n",
       "<table border=\"1\" class=\"dataframe\">\n",
       "  <thead>\n",
       "    <tr style=\"text-align: right;\">\n",
       "      <th></th>\n",
       "      <th>Cement</th>\n",
       "      <th>Blast Furnace Slag</th>\n",
       "      <th>Fly Ash</th>\n",
       "      <th>Water</th>\n",
       "      <th>Superplasticizer</th>\n",
       "      <th>Coarse Aggregate</th>\n",
       "      <th>Fine Aggregate</th>\n",
       "      <th>Age</th>\n",
       "    </tr>\n",
       "  </thead>\n",
       "  <tbody>\n",
       "    <tr>\n",
       "      <th>0</th>\n",
       "      <td>2.476712</td>\n",
       "      <td>-0.856472</td>\n",
       "      <td>-0.846733</td>\n",
       "      <td>-0.916319</td>\n",
       "      <td>-0.620147</td>\n",
       "      <td>0.862735</td>\n",
       "      <td>-1.217079</td>\n",
       "      <td>-0.279597</td>\n",
       "    </tr>\n",
       "    <tr>\n",
       "      <th>1</th>\n",
       "      <td>2.476712</td>\n",
       "      <td>-0.856472</td>\n",
       "      <td>-0.846733</td>\n",
       "      <td>-0.916319</td>\n",
       "      <td>-0.620147</td>\n",
       "      <td>1.055651</td>\n",
       "      <td>-1.217079</td>\n",
       "      <td>-0.279597</td>\n",
       "    </tr>\n",
       "    <tr>\n",
       "      <th>2</th>\n",
       "      <td>0.491187</td>\n",
       "      <td>0.795140</td>\n",
       "      <td>-0.846733</td>\n",
       "      <td>2.174405</td>\n",
       "      <td>-1.038638</td>\n",
       "      <td>-0.526262</td>\n",
       "      <td>-2.239829</td>\n",
       "      <td>3.551340</td>\n",
       "    </tr>\n",
       "    <tr>\n",
       "      <th>3</th>\n",
       "      <td>0.491187</td>\n",
       "      <td>0.795140</td>\n",
       "      <td>-0.846733</td>\n",
       "      <td>2.174405</td>\n",
       "      <td>-1.038638</td>\n",
       "      <td>-0.526262</td>\n",
       "      <td>-2.239829</td>\n",
       "      <td>5.055221</td>\n",
       "    </tr>\n",
       "    <tr>\n",
       "      <th>4</th>\n",
       "      <td>-0.790075</td>\n",
       "      <td>0.678079</td>\n",
       "      <td>-0.846733</td>\n",
       "      <td>0.488555</td>\n",
       "      <td>-1.038638</td>\n",
       "      <td>0.070492</td>\n",
       "      <td>0.647569</td>\n",
       "      <td>4.976069</td>\n",
       "    </tr>\n",
       "  </tbody>\n",
       "</table>\n",
       "</div>"
      ],
      "text/plain": [
       "     Cement  Blast Furnace Slag   Fly Ash     Water  Superplasticizer  \\\n",
       "0  2.476712           -0.856472 -0.846733 -0.916319         -0.620147   \n",
       "1  2.476712           -0.856472 -0.846733 -0.916319         -0.620147   \n",
       "2  0.491187            0.795140 -0.846733  2.174405         -1.038638   \n",
       "3  0.491187            0.795140 -0.846733  2.174405         -1.038638   \n",
       "4 -0.790075            0.678079 -0.846733  0.488555         -1.038638   \n",
       "\n",
       "   Coarse Aggregate  Fine Aggregate       Age  \n",
       "0          0.862735       -1.217079 -0.279597  \n",
       "1          1.055651       -1.217079 -0.279597  \n",
       "2         -0.526262       -2.239829  3.551340  \n",
       "3         -0.526262       -2.239829  5.055221  \n",
       "4          0.070492        0.647569  4.976069  "
      ]
     },
     "execution_count": 11,
     "metadata": {},
     "output_type": "execute_result"
    }
   ],
   "source": [
    "predictors_norm = (predictors - predictors.mean()) / predictors.std()\n",
    "predictors_norm.head()"
   ]
  },
  {
   "cell_type": "markdown",
   "metadata": {},
   "source": [
    "Let's save the number of predictors to *n_cols* since we will need this number when building our network.\n"
   ]
  },
  {
   "cell_type": "code",
   "execution_count": 12,
   "metadata": {},
   "outputs": [],
   "source": [
    "n_cols = predictors_norm.shape[1] # number of predictors"
   ]
  },
  {
   "cell_type": "markdown",
   "metadata": {},
   "source": [
    "<a id=\"item1\"></a>\n"
   ]
  },
  {
   "cell_type": "markdown",
   "metadata": {},
   "source": [
    "<a id='item32'></a>\n"
   ]
  },
  {
   "cell_type": "markdown",
   "metadata": {},
   "source": [
    "##  Import Keras Packages\n",
    "\n",
    "##### Let's import the rest of the packages from the Keras library that we will need to build our regression model.\n"
   ]
  },
  {
   "cell_type": "code",
   "execution_count": 13,
   "metadata": {},
   "outputs": [],
   "source": [
    "from keras.models import Sequential\n",
    "from keras.layers import Dense\n",
    "from keras.layers import Input"
   ]
  },
  {
   "cell_type": "markdown",
   "metadata": {},
   "source": [
    "<a id='item33'></a>\n"
   ]
  },
  {
   "cell_type": "markdown",
   "metadata": {},
   "source": [
    "## Build a Neural Network\n"
   ]
  },
  {
   "cell_type": "markdown",
   "metadata": {},
   "source": [
    "Let's define a function that defines our regression model for us so that we can conveniently call it to create our model.\n"
   ]
  },
  {
   "cell_type": "code",
   "execution_count": 14,
   "metadata": {},
   "outputs": [],
   "source": [
    "# define regression model\n",
    "def regression_model():\n",
    "    # create model\n",
    "    model = Sequential()\n",
    "    model.add(Input(shape=(n_cols,)))\n",
    "    model.add(Dense(50, activation='relu'))\n",
    "    model.add(Dense(50, activation='relu'))\n",
    "    model.add(Dense(1))\n",
    "    \n",
    "    # compile model\n",
    "    model.compile(optimizer='adam', loss='mean_squared_error')\n",
    "    return model"
   ]
  },
  {
   "cell_type": "markdown",
   "metadata": {},
   "source": [
    "The above function create a model that has two hidden layers, each of 50 hidden units.\n"
   ]
  },
  {
   "cell_type": "markdown",
   "metadata": {},
   "source": [
    "<a id=\"item4\"></a>\n"
   ]
  },
  {
   "cell_type": "markdown",
   "metadata": {},
   "source": [
    "## Train and Test the Network\n"
   ]
  },
  {
   "cell_type": "markdown",
   "metadata": {},
   "source": [
    "Let's call the function now to create our model.\n"
   ]
  },
  {
   "cell_type": "code",
   "execution_count": 15,
   "metadata": {},
   "outputs": [],
   "source": [
    "# build the model\n",
    "model = regression_model()"
   ]
  },
  {
   "cell_type": "markdown",
   "metadata": {},
   "source": [
    "Next, we will train and test the model at the same time using the *fit* method. We will leave out 30% of the data for validation and we will train the model for 100 epochs.\n"
   ]
  },
  {
   "cell_type": "code",
   "execution_count": 16,
   "metadata": {},
   "outputs": [
    {
     "name": "stdout",
     "output_type": "stream",
     "text": [
      "Epoch 1/100\n",
      "23/23 - 1s - 56ms/step - loss: 1627.9865 - val_loss: 1127.8496\n",
      "Epoch 2/100\n",
      "23/23 - 0s - 8ms/step - loss: 1486.3040 - val_loss: 1002.1240\n",
      "Epoch 3/100\n",
      "23/23 - 0s - 8ms/step - loss: 1263.9343 - val_loss: 813.9292\n",
      "Epoch 4/100\n",
      "23/23 - 0s - 8ms/step - loss: 947.1538 - val_loss: 576.1645\n",
      "Epoch 5/100\n",
      "23/23 - 0s - 8ms/step - loss: 593.4720 - val_loss: 360.1214\n",
      "Epoch 6/100\n",
      "23/23 - 0s - 8ms/step - loss: 347.9589 - val_loss: 237.2357\n",
      "Epoch 7/100\n",
      "23/23 - 0s - 7ms/step - loss: 256.8828 - val_loss: 205.3529\n",
      "Epoch 8/100\n",
      "23/23 - 0s - 9ms/step - loss: 237.0521 - val_loss: 199.6711\n",
      "Epoch 9/100\n",
      "23/23 - 0s - 9ms/step - loss: 224.3230 - val_loss: 192.2343\n",
      "Epoch 10/100\n",
      "23/23 - 0s - 7ms/step - loss: 213.7244 - val_loss: 192.5932\n",
      "Epoch 11/100\n",
      "23/23 - 0s - 7ms/step - loss: 204.6151 - val_loss: 185.3225\n",
      "Epoch 12/100\n",
      "23/23 - 0s - 7ms/step - loss: 196.4079 - val_loss: 178.0259\n",
      "Epoch 13/100\n",
      "23/23 - 0s - 7ms/step - loss: 190.6515 - val_loss: 176.7901\n",
      "Epoch 14/100\n",
      "23/23 - 0s - 8ms/step - loss: 185.0282 - val_loss: 168.9782\n",
      "Epoch 15/100\n",
      "23/23 - 0s - 7ms/step - loss: 180.6572 - val_loss: 168.6953\n",
      "Epoch 16/100\n",
      "23/23 - 0s - 7ms/step - loss: 175.5500 - val_loss: 165.7256\n",
      "Epoch 17/100\n",
      "23/23 - 0s - 9ms/step - loss: 171.1872 - val_loss: 160.6011\n",
      "Epoch 18/100\n",
      "23/23 - 0s - 8ms/step - loss: 167.9663 - val_loss: 157.4137\n",
      "Epoch 19/100\n",
      "23/23 - 0s - 8ms/step - loss: 165.2798 - val_loss: 156.3441\n",
      "Epoch 20/100\n",
      "23/23 - 0s - 8ms/step - loss: 162.0617 - val_loss: 154.6259\n",
      "Epoch 21/100\n",
      "23/23 - 0s - 8ms/step - loss: 159.1092 - val_loss: 152.2650\n",
      "Epoch 22/100\n",
      "23/23 - 0s - 8ms/step - loss: 156.6561 - val_loss: 151.7908\n",
      "Epoch 23/100\n",
      "23/23 - 0s - 8ms/step - loss: 154.0123 - val_loss: 147.1592\n",
      "Epoch 24/100\n",
      "23/23 - 0s - 8ms/step - loss: 151.7724 - val_loss: 147.2292\n",
      "Epoch 25/100\n",
      "23/23 - 0s - 8ms/step - loss: 149.5686 - val_loss: 145.1449\n",
      "Epoch 26/100\n",
      "23/23 - 0s - 7ms/step - loss: 147.1086 - val_loss: 144.1440\n",
      "Epoch 27/100\n",
      "23/23 - 0s - 7ms/step - loss: 145.0920 - val_loss: 143.2523\n",
      "Epoch 28/100\n",
      "23/23 - 0s - 7ms/step - loss: 143.6000 - val_loss: 143.3540\n",
      "Epoch 29/100\n",
      "23/23 - 0s - 7ms/step - loss: 141.8871 - val_loss: 141.3492\n",
      "Epoch 30/100\n",
      "23/23 - 0s - 7ms/step - loss: 140.3758 - val_loss: 140.4427\n",
      "Epoch 31/100\n",
      "23/23 - 0s - 7ms/step - loss: 138.5863 - val_loss: 142.9461\n",
      "Epoch 32/100\n",
      "23/23 - 0s - 7ms/step - loss: 136.6317 - val_loss: 140.1052\n",
      "Epoch 33/100\n",
      "23/23 - 0s - 7ms/step - loss: 135.0741 - val_loss: 140.7971\n",
      "Epoch 34/100\n",
      "23/23 - 0s - 7ms/step - loss: 133.6825 - val_loss: 140.7260\n",
      "Epoch 35/100\n",
      "23/23 - 0s - 8ms/step - loss: 132.4049 - val_loss: 140.1852\n",
      "Epoch 36/100\n",
      "23/23 - 0s - 8ms/step - loss: 131.0137 - val_loss: 138.1852\n",
      "Epoch 37/100\n",
      "23/23 - 0s - 7ms/step - loss: 129.2246 - val_loss: 138.5477\n",
      "Epoch 38/100\n",
      "23/23 - 0s - 8ms/step - loss: 127.7836 - val_loss: 139.9003\n",
      "Epoch 39/100\n",
      "23/23 - 0s - 7ms/step - loss: 126.0965 - val_loss: 138.1391\n",
      "Epoch 40/100\n",
      "23/23 - 0s - 7ms/step - loss: 124.9429 - val_loss: 138.3877\n",
      "Epoch 41/100\n",
      "23/23 - 0s - 8ms/step - loss: 122.4878 - val_loss: 139.2638\n",
      "Epoch 42/100\n",
      "23/23 - 0s - 7ms/step - loss: 121.6531 - val_loss: 142.2713\n",
      "Epoch 43/100\n",
      "23/23 - 0s - 7ms/step - loss: 118.9796 - val_loss: 139.7296\n",
      "Epoch 44/100\n",
      "23/23 - 0s - 8ms/step - loss: 117.1801 - val_loss: 141.1690\n",
      "Epoch 45/100\n",
      "23/23 - 0s - 8ms/step - loss: 115.5761 - val_loss: 135.8981\n",
      "Epoch 46/100\n",
      "23/23 - 0s - 7ms/step - loss: 112.6616 - val_loss: 139.2249\n",
      "Epoch 47/100\n",
      "23/23 - 0s - 8ms/step - loss: 110.3255 - val_loss: 137.9122\n",
      "Epoch 48/100\n",
      "23/23 - 0s - 9ms/step - loss: 107.5731 - val_loss: 137.5600\n",
      "Epoch 49/100\n",
      "23/23 - 0s - 8ms/step - loss: 105.2842 - val_loss: 136.4942\n",
      "Epoch 50/100\n",
      "23/23 - 0s - 8ms/step - loss: 102.6375 - val_loss: 137.4226\n",
      "Epoch 51/100\n",
      "23/23 - 0s - 7ms/step - loss: 100.1887 - val_loss: 132.7413\n",
      "Epoch 52/100\n",
      "23/23 - 0s - 8ms/step - loss: 98.1479 - val_loss: 136.9902\n",
      "Epoch 53/100\n",
      "23/23 - 0s - 8ms/step - loss: 94.2567 - val_loss: 134.2553\n",
      "Epoch 54/100\n",
      "23/23 - 0s - 8ms/step - loss: 93.0940 - val_loss: 134.8089\n",
      "Epoch 55/100\n",
      "23/23 - 0s - 8ms/step - loss: 89.9900 - val_loss: 137.5813\n",
      "Epoch 56/100\n",
      "23/23 - 0s - 7ms/step - loss: 86.6468 - val_loss: 139.4682\n",
      "Epoch 57/100\n",
      "23/23 - 0s - 7ms/step - loss: 84.5151 - val_loss: 135.9304\n",
      "Epoch 58/100\n",
      "23/23 - 0s - 8ms/step - loss: 81.7948 - val_loss: 138.6617\n",
      "Epoch 59/100\n",
      "23/23 - 0s - 8ms/step - loss: 79.0715 - val_loss: 137.9114\n",
      "Epoch 60/100\n",
      "23/23 - 0s - 7ms/step - loss: 76.8895 - val_loss: 133.9619\n",
      "Epoch 61/100\n",
      "23/23 - 0s - 7ms/step - loss: 74.8035 - val_loss: 130.4481\n",
      "Epoch 62/100\n",
      "23/23 - 0s - 7ms/step - loss: 72.6640 - val_loss: 141.9921\n",
      "Epoch 63/100\n",
      "23/23 - 0s - 9ms/step - loss: 70.5210 - val_loss: 131.0574\n",
      "Epoch 64/100\n",
      "23/23 - 0s - 8ms/step - loss: 68.5660 - val_loss: 133.7091\n",
      "Epoch 65/100\n",
      "23/23 - 0s - 8ms/step - loss: 66.4042 - val_loss: 125.5200\n",
      "Epoch 66/100\n",
      "23/23 - 0s - 9ms/step - loss: 64.8882 - val_loss: 134.9946\n",
      "Epoch 67/100\n",
      "23/23 - 0s - 8ms/step - loss: 63.1221 - val_loss: 128.0611\n",
      "Epoch 68/100\n",
      "23/23 - 0s - 9ms/step - loss: 61.5460 - val_loss: 128.4164\n",
      "Epoch 69/100\n",
      "23/23 - 0s - 8ms/step - loss: 59.9526 - val_loss: 125.9906\n",
      "Epoch 70/100\n",
      "23/23 - 0s - 8ms/step - loss: 58.7244 - val_loss: 127.0337\n",
      "Epoch 71/100\n",
      "23/23 - 0s - 8ms/step - loss: 57.5805 - val_loss: 134.3166\n",
      "Epoch 72/100\n",
      "23/23 - 0s - 9ms/step - loss: 56.3024 - val_loss: 131.3514\n",
      "Epoch 73/100\n",
      "23/23 - 0s - 7ms/step - loss: 55.2061 - val_loss: 126.4108\n",
      "Epoch 74/100\n",
      "23/23 - 0s - 8ms/step - loss: 54.1584 - val_loss: 130.8960\n",
      "Epoch 75/100\n",
      "23/23 - 0s - 8ms/step - loss: 52.5537 - val_loss: 127.3402\n",
      "Epoch 76/100\n",
      "23/23 - 0s - 8ms/step - loss: 51.6659 - val_loss: 119.1426\n",
      "Epoch 77/100\n",
      "23/23 - 0s - 8ms/step - loss: 51.0799 - val_loss: 120.1558\n",
      "Epoch 78/100\n",
      "23/23 - 0s - 7ms/step - loss: 50.1503 - val_loss: 126.7203\n",
      "Epoch 79/100\n",
      "23/23 - 0s - 8ms/step - loss: 49.0728 - val_loss: 119.9298\n",
      "Epoch 80/100\n",
      "23/23 - 0s - 7ms/step - loss: 48.4535 - val_loss: 118.4577\n",
      "Epoch 81/100\n",
      "23/23 - 0s - 7ms/step - loss: 47.1637 - val_loss: 116.4380\n",
      "Epoch 82/100\n",
      "23/23 - 0s - 7ms/step - loss: 46.4871 - val_loss: 122.2659\n",
      "Epoch 83/100\n",
      "23/23 - 0s - 7ms/step - loss: 45.0821 - val_loss: 117.8246\n",
      "Epoch 84/100\n",
      "23/23 - 0s - 8ms/step - loss: 44.7448 - val_loss: 121.7303\n",
      "Epoch 85/100\n",
      "23/23 - 0s - 7ms/step - loss: 44.0999 - val_loss: 120.0227\n",
      "Epoch 86/100\n",
      "23/23 - 0s - 8ms/step - loss: 43.1821 - val_loss: 114.5142\n",
      "Epoch 87/100\n",
      "23/23 - 0s - 8ms/step - loss: 42.5056 - val_loss: 118.7658\n",
      "Epoch 88/100\n",
      "23/23 - 0s - 7ms/step - loss: 42.2152 - val_loss: 117.1799\n",
      "Epoch 89/100\n",
      "23/23 - 0s - 7ms/step - loss: 42.9628 - val_loss: 122.3737\n",
      "Epoch 90/100\n",
      "23/23 - 0s - 8ms/step - loss: 40.7894 - val_loss: 113.5397\n",
      "Epoch 91/100\n",
      "23/23 - 0s - 8ms/step - loss: 40.9111 - val_loss: 121.0806\n",
      "Epoch 92/100\n",
      "23/23 - 0s - 7ms/step - loss: 40.3672 - val_loss: 115.9079\n",
      "Epoch 93/100\n",
      "23/23 - 0s - 8ms/step - loss: 39.8274 - val_loss: 116.8790\n",
      "Epoch 94/100\n",
      "23/23 - 0s - 8ms/step - loss: 39.0209 - val_loss: 116.4287\n",
      "Epoch 95/100\n",
      "23/23 - 0s - 7ms/step - loss: 38.7135 - val_loss: 117.5342\n",
      "Epoch 96/100\n",
      "23/23 - 0s - 9ms/step - loss: 38.5209 - val_loss: 113.5326\n",
      "Epoch 97/100\n",
      "23/23 - 0s - 8ms/step - loss: 38.0551 - val_loss: 117.0592\n",
      "Epoch 98/100\n",
      "23/23 - 0s - 9ms/step - loss: 37.7436 - val_loss: 115.8824\n",
      "Epoch 99/100\n",
      "23/23 - 0s - 8ms/step - loss: 37.3912 - val_loss: 114.9441\n",
      "Epoch 100/100\n",
      "23/23 - 0s - 7ms/step - loss: 37.2707 - val_loss: 119.9861\n"
     ]
    },
    {
     "data": {
      "text/plain": [
       "<keras.src.callbacks.history.History at 0x7fdad8225be0>"
      ]
     },
     "execution_count": 16,
     "metadata": {},
     "output_type": "execute_result"
    }
   ],
   "source": [
    "# fit the model\n",
    "model.fit(predictors_norm, target, validation_split=0.3, epochs=100, verbose=2)"
   ]
  },
  {
   "cell_type": "markdown",
   "metadata": {},
   "source": [
    "<strong>You can refer to this [link](https://keras.io/models/sequential/) to learn about other functions that you can use for prediction or evaluation.</strong>\n"
   ]
  },
  {
   "cell_type": "markdown",
   "metadata": {},
   "source": [
    "Feel free to vary the following and note what impact each change has on the model's performance:\n",
    "\n",
    "1. Increase or decreate number of neurons in hidden layers\n",
    "2. Add more hidden layers\n",
    "3. Increase number of epochs\n"
   ]
  },
  {
   "cell_type": "markdown",
   "metadata": {},
   "source": [
    "<h3>Practice Exercise 1</h3>\n"
   ]
  },
  {
   "cell_type": "markdown",
   "metadata": {},
   "source": [
    "Now using the same dateset,try to recreate regression model featuring five hidden layers, each with 50 nodes and ReLU activation functions, a single output layer, optimized using the Adam optimizer.\n"
   ]
  },
  {
   "cell_type": "code",
   "execution_count": 17,
   "metadata": {},
   "outputs": [],
   "source": [
    "# Write your code here\n",
    "def regression_model():\n",
    "    input_colm = predictors_norm.shape[1] # Number of input features\n",
    "    # create model\n",
    "    model = Sequential()\n",
    "    model.add(Input(shape=(input_colm,)))  # Set the number of input features \n",
    "    model.add(Dense(50, activation='relu'))  \n",
    "    model.add(Dense(50, activation='relu'))\n",
    "    model.add(Dense(50, activation='relu')) \n",
    "    model.add(Dense(50, activation='relu'))\n",
    "    model.add(Dense(50, activation='relu'))  \n",
    "    model.add(Dense(1))  # Output layer\n",
    "    \n",
    "    # compile model\n",
    "    model.compile(optimizer='adam', loss='mean_squared_error')\n",
    "    return model"
   ]
  },
  {
   "cell_type": "markdown",
   "metadata": {},
   "source": [
    "Double-click <b>here</b> for the solution.\n",
    "\n",
    "<!-- Your answer is below:\n",
    "def regression_model():\n",
    "    input_colm = predictors_norm.shape[1] # Number of input features\n",
    "    # create model\n",
    "    model = Sequential()\n",
    "    model.add(Input(shape=(input_colm,)))  # Set the number of input features \n",
    "    model.add(Dense(50, activation='relu'))  \n",
    "    model.add(Dense(50, activation='relu'))\n",
    "    model.add(Dense(50, activation='relu')) \n",
    "    model.add(Dense(50, activation='relu'))\n",
    "    model.add(Dense(50, activation='relu'))  \n",
    "    model.add(Dense(1))  # Output layer\n",
    "    \n",
    "    # compile model\n",
    "    model.compile(optimizer='adam', loss='mean_squared_error')\n",
    "    return model\n",
    "\n",
    "-->\n"
   ]
  },
  {
   "cell_type": "markdown",
   "metadata": {},
   "source": [
    "<h3>Practice Exercise 2</h3>\n"
   ]
  },
  {
   "cell_type": "markdown",
   "metadata": {},
   "source": [
    " Train and evaluate the model simultaneously using the fit() method by reserving 10% of the data for validation and training the model for 100 epochs\n"
   ]
  },
  {
   "cell_type": "code",
   "execution_count": 18,
   "metadata": {},
   "outputs": [
    {
     "name": "stdout",
     "output_type": "stream",
     "text": [
      "Epoch 1/100\n",
      "29/29 - 2s - 80ms/step - loss: 1513.5233 - val_loss: 921.2075\n",
      "Epoch 2/100\n",
      "29/29 - 0s - 9ms/step - loss: 684.9601 - val_loss: 471.7370\n",
      "Epoch 3/100\n",
      "29/29 - 0s - 9ms/step - loss: 233.1053 - val_loss: 219.8935\n",
      "Epoch 4/100\n",
      "29/29 - 0s - 8ms/step - loss: 186.0433 - val_loss: 181.0806\n",
      "Epoch 5/100\n",
      "29/29 - 0s - 8ms/step - loss: 171.0850 - val_loss: 157.8635\n",
      "Epoch 6/100\n",
      "29/29 - 0s - 7ms/step - loss: 156.2131 - val_loss: 147.8162\n",
      "Epoch 7/100\n",
      "29/29 - 0s - 7ms/step - loss: 143.2420 - val_loss: 134.6649\n",
      "Epoch 8/100\n",
      "29/29 - 0s - 7ms/step - loss: 127.6606 - val_loss: 125.0066\n",
      "Epoch 9/100\n",
      "29/29 - 0s - 8ms/step - loss: 112.9987 - val_loss: 107.3516\n",
      "Epoch 10/100\n",
      "29/29 - 0s - 8ms/step - loss: 97.4941 - val_loss: 91.0559\n",
      "Epoch 11/100\n",
      "29/29 - 0s - 7ms/step - loss: 81.9549 - val_loss: 77.5471\n",
      "Epoch 12/100\n",
      "29/29 - 0s - 8ms/step - loss: 69.8153 - val_loss: 68.9816\n",
      "Epoch 13/100\n",
      "29/29 - 0s - 7ms/step - loss: 59.7003 - val_loss: 67.9916\n",
      "Epoch 14/100\n",
      "29/29 - 0s - 7ms/step - loss: 52.5054 - val_loss: 53.7231\n",
      "Epoch 15/100\n",
      "29/29 - 0s - 7ms/step - loss: 48.3073 - val_loss: 48.0605\n",
      "Epoch 16/100\n",
      "29/29 - 0s - 8ms/step - loss: 43.8533 - val_loss: 44.6440\n",
      "Epoch 17/100\n",
      "29/29 - 0s - 7ms/step - loss: 44.3953 - val_loss: 45.2251\n",
      "Epoch 18/100\n",
      "29/29 - 0s - 8ms/step - loss: 41.1949 - val_loss: 42.6011\n",
      "Epoch 19/100\n",
      "29/29 - 0s - 7ms/step - loss: 37.1223 - val_loss: 40.5770\n",
      "Epoch 20/100\n",
      "29/29 - 0s - 7ms/step - loss: 35.9024 - val_loss: 37.7000\n",
      "Epoch 21/100\n",
      "29/29 - 0s - 7ms/step - loss: 33.2997 - val_loss: 51.5522\n",
      "Epoch 22/100\n",
      "29/29 - 0s - 8ms/step - loss: 32.3627 - val_loss: 39.1345\n",
      "Epoch 23/100\n",
      "29/29 - 0s - 8ms/step - loss: 31.2372 - val_loss: 40.2712\n",
      "Epoch 24/100\n",
      "29/29 - 0s - 8ms/step - loss: 29.1405 - val_loss: 37.3581\n",
      "Epoch 25/100\n",
      "29/29 - 0s - 7ms/step - loss: 28.3903 - val_loss: 34.7275\n",
      "Epoch 26/100\n",
      "29/29 - 0s - 7ms/step - loss: 27.6931 - val_loss: 33.7198\n",
      "Epoch 27/100\n",
      "29/29 - 0s - 7ms/step - loss: 27.2598 - val_loss: 42.2209\n",
      "Epoch 28/100\n",
      "29/29 - 0s - 7ms/step - loss: 30.3076 - val_loss: 52.7131\n",
      "Epoch 29/100\n",
      "29/29 - 0s - 7ms/step - loss: 25.0155 - val_loss: 38.6507\n",
      "Epoch 30/100\n",
      "29/29 - 0s - 8ms/step - loss: 24.5439 - val_loss: 31.2515\n",
      "Epoch 31/100\n",
      "29/29 - 0s - 7ms/step - loss: 24.4970 - val_loss: 32.6648\n",
      "Epoch 32/100\n",
      "29/29 - 0s - 7ms/step - loss: 24.0208 - val_loss: 30.8752\n",
      "Epoch 33/100\n",
      "29/29 - 0s - 7ms/step - loss: 23.0066 - val_loss: 30.4082\n",
      "Epoch 34/100\n",
      "29/29 - 0s - 7ms/step - loss: 22.2933 - val_loss: 29.3105\n",
      "Epoch 35/100\n",
      "29/29 - 0s - 7ms/step - loss: 21.6959 - val_loss: 31.0691\n",
      "Epoch 36/100\n",
      "29/29 - 0s - 7ms/step - loss: 21.9211 - val_loss: 29.7435\n",
      "Epoch 37/100\n",
      "29/29 - 0s - 7ms/step - loss: 20.9976 - val_loss: 26.2441\n",
      "Epoch 38/100\n",
      "29/29 - 0s - 7ms/step - loss: 21.8940 - val_loss: 27.6147\n",
      "Epoch 39/100\n",
      "29/29 - 0s - 7ms/step - loss: 19.5526 - val_loss: 30.3108\n",
      "Epoch 40/100\n",
      "29/29 - 0s - 8ms/step - loss: 20.0658 - val_loss: 27.1999\n",
      "Epoch 41/100\n",
      "29/29 - 0s - 7ms/step - loss: 20.3313 - val_loss: 29.2433\n",
      "Epoch 42/100\n",
      "29/29 - 0s - 8ms/step - loss: 20.3558 - val_loss: 38.0693\n",
      "Epoch 43/100\n",
      "29/29 - 0s - 7ms/step - loss: 20.4638 - val_loss: 35.7736\n",
      "Epoch 44/100\n",
      "29/29 - 0s - 7ms/step - loss: 18.4323 - val_loss: 25.4912\n",
      "Epoch 45/100\n",
      "29/29 - 0s - 7ms/step - loss: 18.3772 - val_loss: 25.2150\n",
      "Epoch 46/100\n",
      "29/29 - 0s - 7ms/step - loss: 17.7169 - val_loss: 24.0405\n",
      "Epoch 47/100\n",
      "29/29 - 0s - 8ms/step - loss: 17.5625 - val_loss: 30.6297\n",
      "Epoch 48/100\n",
      "29/29 - 0s - 7ms/step - loss: 16.9033 - val_loss: 33.6039\n",
      "Epoch 49/100\n",
      "29/29 - 0s - 7ms/step - loss: 17.1548 - val_loss: 26.4226\n",
      "Epoch 50/100\n",
      "29/29 - 0s - 7ms/step - loss: 16.5545 - val_loss: 28.2768\n",
      "Epoch 51/100\n",
      "29/29 - 0s - 7ms/step - loss: 15.9795 - val_loss: 21.0611\n",
      "Epoch 52/100\n",
      "29/29 - 0s - 7ms/step - loss: 16.4560 - val_loss: 22.4227\n",
      "Epoch 53/100\n",
      "29/29 - 0s - 7ms/step - loss: 18.1916 - val_loss: 30.8375\n",
      "Epoch 54/100\n",
      "29/29 - 0s - 8ms/step - loss: 15.7276 - val_loss: 22.1652\n",
      "Epoch 55/100\n",
      "29/29 - 0s - 8ms/step - loss: 15.0033 - val_loss: 21.1337\n",
      "Epoch 56/100\n",
      "29/29 - 0s - 7ms/step - loss: 15.5475 - val_loss: 23.5829\n",
      "Epoch 57/100\n",
      "29/29 - 0s - 7ms/step - loss: 15.7470 - val_loss: 23.3987\n",
      "Epoch 58/100\n",
      "29/29 - 0s - 8ms/step - loss: 15.1452 - val_loss: 20.0324\n",
      "Epoch 59/100\n",
      "29/29 - 0s - 7ms/step - loss: 14.3718 - val_loss: 24.1353\n",
      "Epoch 60/100\n",
      "29/29 - 0s - 7ms/step - loss: 14.1830 - val_loss: 24.2262\n",
      "Epoch 61/100\n",
      "29/29 - 0s - 7ms/step - loss: 14.0246 - val_loss: 20.4865\n",
      "Epoch 62/100\n",
      "29/29 - 0s - 7ms/step - loss: 14.2020 - val_loss: 26.2149\n",
      "Epoch 63/100\n",
      "29/29 - 0s - 7ms/step - loss: 14.1684 - val_loss: 30.2768\n",
      "Epoch 64/100\n",
      "29/29 - 0s - 13ms/step - loss: 15.3021 - val_loss: 19.7012\n",
      "Epoch 65/100\n",
      "29/29 - 0s - 9ms/step - loss: 14.5566 - val_loss: 25.4460\n",
      "Epoch 66/100\n",
      "29/29 - 0s - 7ms/step - loss: 14.7582 - val_loss: 30.8206\n",
      "Epoch 67/100\n",
      "29/29 - 0s - 7ms/step - loss: 13.8046 - val_loss: 20.8524\n",
      "Epoch 68/100\n",
      "29/29 - 0s - 7ms/step - loss: 13.0859 - val_loss: 19.5395\n",
      "Epoch 69/100\n",
      "29/29 - 0s - 7ms/step - loss: 13.2575 - val_loss: 17.6497\n",
      "Epoch 70/100\n",
      "29/29 - 0s - 7ms/step - loss: 13.4375 - val_loss: 20.7696\n",
      "Epoch 71/100\n",
      "29/29 - 0s - 7ms/step - loss: 12.9390 - val_loss: 18.7612\n",
      "Epoch 72/100\n",
      "29/29 - 0s - 7ms/step - loss: 12.9665 - val_loss: 19.4266\n",
      "Epoch 73/100\n",
      "29/29 - 0s - 7ms/step - loss: 12.5176 - val_loss: 21.1928\n",
      "Epoch 74/100\n",
      "29/29 - 0s - 7ms/step - loss: 12.9227 - val_loss: 19.4684\n",
      "Epoch 75/100\n",
      "29/29 - 0s - 7ms/step - loss: 12.1345 - val_loss: 22.2852\n",
      "Epoch 76/100\n",
      "29/29 - 0s - 7ms/step - loss: 13.5573 - val_loss: 20.3515\n",
      "Epoch 77/100\n",
      "29/29 - 0s - 7ms/step - loss: 12.4613 - val_loss: 22.6165\n",
      "Epoch 78/100\n",
      "29/29 - 0s - 7ms/step - loss: 12.0714 - val_loss: 20.1849\n",
      "Epoch 79/100\n",
      "29/29 - 0s - 8ms/step - loss: 11.5621 - val_loss: 25.0851\n",
      "Epoch 80/100\n",
      "29/29 - 0s - 7ms/step - loss: 12.1186 - val_loss: 16.8767\n",
      "Epoch 81/100\n",
      "29/29 - 0s - 8ms/step - loss: 12.0060 - val_loss: 17.6921\n",
      "Epoch 82/100\n",
      "29/29 - 0s - 7ms/step - loss: 12.8794 - val_loss: 16.5081\n",
      "Epoch 83/100\n",
      "29/29 - 0s - 7ms/step - loss: 12.6099 - val_loss: 18.6501\n",
      "Epoch 84/100\n",
      "29/29 - 0s - 7ms/step - loss: 12.1115 - val_loss: 21.4139\n",
      "Epoch 85/100\n",
      "29/29 - 0s - 7ms/step - loss: 12.6779 - val_loss: 16.7873\n",
      "Epoch 86/100\n",
      "29/29 - 0s - 8ms/step - loss: 13.0569 - val_loss: 14.1845\n",
      "Epoch 87/100\n",
      "29/29 - 0s - 8ms/step - loss: 11.9981 - val_loss: 15.1341\n",
      "Epoch 88/100\n",
      "29/29 - 0s - 7ms/step - loss: 12.9463 - val_loss: 27.2595\n",
      "Epoch 89/100\n",
      "29/29 - 0s - 8ms/step - loss: 12.3540 - val_loss: 22.5124\n",
      "Epoch 90/100\n",
      "29/29 - 0s - 7ms/step - loss: 11.5170 - val_loss: 16.6078\n",
      "Epoch 91/100\n",
      "29/29 - 0s - 7ms/step - loss: 12.0805 - val_loss: 18.8500\n",
      "Epoch 92/100\n",
      "29/29 - 0s - 8ms/step - loss: 10.7909 - val_loss: 27.9767\n",
      "Epoch 93/100\n",
      "29/29 - 0s - 8ms/step - loss: 12.3105 - val_loss: 21.2652\n",
      "Epoch 94/100\n",
      "29/29 - 0s - 7ms/step - loss: 10.7099 - val_loss: 17.0334\n",
      "Epoch 95/100\n",
      "29/29 - 0s - 7ms/step - loss: 10.5914 - val_loss: 14.4890\n",
      "Epoch 96/100\n",
      "29/29 - 0s - 7ms/step - loss: 10.7232 - val_loss: 15.9420\n",
      "Epoch 97/100\n",
      "29/29 - 0s - 8ms/step - loss: 10.7162 - val_loss: 13.3980\n",
      "Epoch 98/100\n",
      "29/29 - 0s - 7ms/step - loss: 11.7071 - val_loss: 18.6973\n",
      "Epoch 99/100\n",
      "29/29 - 0s - 7ms/step - loss: 11.7312 - val_loss: 19.6179\n",
      "Epoch 100/100\n",
      "29/29 - 0s - 7ms/step - loss: 11.6314 - val_loss: 18.8019\n"
     ]
    },
    {
     "data": {
      "text/plain": [
       "<keras.src.callbacks.history.History at 0x7fdad82e80e0>"
      ]
     },
     "execution_count": 18,
     "metadata": {},
     "output_type": "execute_result"
    }
   ],
   "source": [
    "# Write your code here\n",
    "model = regression_model()\n",
    "model.fit(predictors_norm, target, validation_split=0.1, epochs=100, verbose=2)"
   ]
  },
  {
   "cell_type": "markdown",
   "metadata": {},
   "source": [
    "Double-click <b>here</b> for the solution.\n",
    "\n",
    "<!-- Your answer is below:\n",
    "# build the model\n",
    "model = regression_model()\n",
    "model.fit(predictors_norm, target, validation_split=0.1, epochs=100, verbose=2)\n",
    "\n",
    "-->\n"
   ]
  },
  {
   "cell_type": "markdown",
   "metadata": {},
   "source": [
    "Based on the results, we notice that:\n",
    "\n",
    "- Adding more hidden layers to the model increases its capacity to learn and represent complex relationships within the data. This allows the model to better identify, as a result, the model becomes more effective at fitting the training data and potentially improving its predictions.\n",
    "- By reducing the proportion of data set aside for validation and using a larger portion for training, the model has access to more examples to learn from. This additional training data helps the model improve its understanding of the underlying trends, which can lead to better overall performance.  \n"
   ]
  },
  {
   "cell_type": "markdown",
   "metadata": {},
   "source": [
    "### Thank you for completing this lab!\n",
    "\n",
    "This notebook was created by [Alex Aklson](https://www.linkedin.com/in/aklson/). I hope you found this lab interesting and educational. Feel free to contact me if you have any questions!\n"
   ]
  },
  {
   "cell_type": "markdown",
   "metadata": {},
   "source": [
    "<!--\n",
    "## Change Log\n",
    "\n",
    "|  Date (YYYY-MM-DD) |  Version | Changed By  |  Change Description |\n",
    "|---|---|---|---|\n",
    "| 2024-11-20  | 3.0  | Aman  |  Updated the library versions to current |\n",
    "| 2020-09-21  | 2.0  | Srishti  |  Migrated Lab to Markdown and added to course repo in GitLab |\n",
    "\n",
    "\n",
    "\n",
    "<hr>\n",
    "\n",
    "## <h3 align=\"center\"> © IBM Corporation. All rights reserved. <h3/>\n"
   ]
  },
  {
   "cell_type": "markdown",
   "metadata": {},
   "source": [
    "## <h3 align=\"center\"> &#169; IBM Corporation. All rights reserved. <h3/>\n",
    "\n"
   ]
  }
 ],
 "metadata": {
  "kernelspec": {
   "display_name": "Python 3 (ipykernel)",
   "language": "python",
   "name": "python3"
  },
  "language_info": {
   "codemirror_mode": {
    "name": "ipython",
    "version": 3
   },
   "file_extension": ".py",
   "mimetype": "text/x-python",
   "name": "python",
   "nbconvert_exporter": "python",
   "pygments_lexer": "ipython3",
   "version": "3.12.8"
  },
  "prev_pub_hash": "7798ec66287dc6e3a0a8d4fcb1fcbe001f8ce637f2f460e6aa188f14bb0f7d79"
 },
 "nbformat": 4,
 "nbformat_minor": 4
}
